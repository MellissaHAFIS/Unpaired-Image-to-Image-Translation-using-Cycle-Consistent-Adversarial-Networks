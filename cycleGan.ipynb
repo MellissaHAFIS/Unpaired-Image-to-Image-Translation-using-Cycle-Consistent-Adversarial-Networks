{
 "cells": [
  {
   "cell_type": "code",
   "execution_count": 1,
   "id": "4259195f",
   "metadata": {},
   "outputs": [
    {
     "name": "stdout",
     "output_type": "stream",
     "text": [
      "2.6.0+cu126 12.6\n"
     ]
    }
   ],
   "source": [
    "import torch\n",
    "print(torch.__version__, torch.version.cuda)\n",
    "\n"
   ]
  },
  {
   "cell_type": "markdown",
   "id": "51b21cd2",
   "metadata": {},
   "source": [
    "## Download Datasets :"
   ]
  },
  {
   "cell_type": "code",
   "execution_count": 4,
   "id": "3a4f90ea",
   "metadata": {},
   "outputs": [
    {
     "name": "stdout",
     "output_type": "stream",
     "text": [
      "datasets\\horse2zebra.zip existe déjà, on réutilise l’archive.\n",
      "Suppression de l'ancien dossier datasets\\horse2zebra…\n",
      "Extraction de l'archive…\n",
      "Extraction terminée.\n",
      "Archive supprimée.\n"
     ]
    }
   ],
   "source": [
    "import os\n",
    "import urllib.request\n",
    "import zipfile\n",
    "import shutil\n",
    "\n",
    "\n",
    "dataset     = 'horse2zebra'\n",
    "base_url    = 'http://efrosgans.eecs.berkeley.edu/cyclegan/datasets'\n",
    "datasets_dir= 'datasets'\n",
    "zip_path    = os.path.join(datasets_dir, f'{dataset}.zip')\n",
    "extract_to  = datasets_dir\n",
    "dataset_dir = os.path.join(datasets_dir, dataset)\n",
    "\n",
    "os.makedirs(datasets_dir, exist_ok=True)\n",
    "\n",
    "if not os.path.isfile(zip_path):\n",
    "    print(f\"Téléchargement de {dataset}.zip …\")\n",
    "    urllib.request.urlretrieve(f\"{base_url}/{dataset}.zip\", zip_path)\n",
    "    print(\"Téléchargement terminé.\")\n",
    "else:\n",
    "    print(f\"{zip_path} existe déjà, on réutilise l’archive.\")\n",
    "\n",
    "if os.path.isdir(dataset_dir):\n",
    "    print(f\"Suppression de l'ancien dossier {dataset_dir}…\")\n",
    "    shutil.rmtree(dataset_dir)\n",
    "\n",
    "print(\"Extraction de l'archive…\")\n",
    "with zipfile.ZipFile(zip_path, 'r') as z:\n",
    "    z.extractall(extract_to)\n",
    "print(\"Extraction terminée.\")\n",
    "\n",
    "\n",
    "os.remove(zip_path)\n",
    "print(\"Archive supprimée.\")\n"
   ]
  },
  {
   "cell_type": "markdown",
   "id": "b74d21e6",
   "metadata": {},
   "source": [
    "## Training :"
   ]
  },
  {
   "cell_type": "markdown",
   "id": "84efec5a",
   "metadata": {},
   "source": [
    "### ajouter --no_dropout"
   ]
  },
  {
   "cell_type": "code",
   "execution_count": 10,
   "id": "0f3005be",
   "metadata": {},
   "outputs": [
    {
     "name": "stdout",
     "output_type": "stream",
     "text": [
      "\"  aaa  \"\n"
     ]
    }
   ],
   "source": [
    "!echo \"  aaa  \""
   ]
  },
  {
   "cell_type": "code",
   "execution_count": null,
   "id": "cf1c6f8b",
   "metadata": {},
   "outputs": [
    {
     "name": "stderr",
     "output_type": "stream",
     "text": [
      "UsageError: Line magic function `%python` not found (But cell magic `%%python` exists, did you mean that instead?).\n"
     ]
    }
   ],
   "source": [
    "!python train.py \\\n",
    "  --dataroot ./datasets/horse2zebra \\\n",
    "  --name horse2zebra \\\n",
    "  --gpu_ids 0 \\\n",
    "  --batch_size 1 \\\n",
    "  --image_size 256 \\\n",
    "  --n_epochs 100 \\\n",
    "  --n_epochs_decay 100\n",
    "  "
   ]
  },
  {
   "cell_type": "markdown",
   "id": "4b88d5d8",
   "metadata": {},
   "source": [
    "## Testing :"
   ]
  },
  {
   "cell_type": "code",
   "execution_count": null,
   "id": "2dac7794",
   "metadata": {},
   "outputs": [],
   "source": []
  },
  {
   "cell_type": "markdown",
   "id": "a870df69",
   "metadata": {},
   "source": [
    "## Evaluation :"
   ]
  },
  {
   "cell_type": "code",
   "execution_count": null,
   "id": "9295329a",
   "metadata": {},
   "outputs": [],
   "source": [
    "!python evaluate_fcn.py"
   ]
  },
  {
   "cell_type": "markdown",
   "id": "e8767f8f",
   "metadata": {},
   "source": [
    "## Visualisation :"
   ]
  },
  {
   "cell_type": "markdown",
   "id": "d9b61215",
   "metadata": {},
   "source": []
  }
 ],
 "metadata": {
  "kernelspec": {
   "display_name": "cycle_gan",
   "language": "python",
   "name": "python3"
  },
  "language_info": {
   "codemirror_mode": {
    "name": "ipython",
    "version": 3
   },
   "file_extension": ".py",
   "mimetype": "text/x-python",
   "name": "python",
   "nbconvert_exporter": "python",
   "pygments_lexer": "ipython3",
   "version": "3.12.10"
  }
 },
 "nbformat": 4,
 "nbformat_minor": 5
}
